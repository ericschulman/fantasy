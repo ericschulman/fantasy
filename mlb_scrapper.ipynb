{
 "cells": [
  {
   "cell_type": "code",
   "execution_count": 6,
   "metadata": {},
   "outputs": [],
   "source": [
    "import pandas as pd\n",
    "import requests\n",
    "from bs4 import BeautifulSoup "
   ]
  },
  {
   "cell_type": "code",
   "execution_count": 12,
   "metadata": {},
   "outputs": [],
   "source": [
    "pitching_url = 'https://www.mlb.com/stats/pitching/?page=1'\n",
    "hitting_url = 'https://www.mlb.com/stats/?page=1'\n",
    "headers = {'Accept-Encoding': 'identity'}\n",
    "pitching_page = requests.get(pitching_url, headers=headers)"
   ]
  },
  {
   "cell_type": "code",
   "execution_count": 14,
   "metadata": {},
   "outputs": [
    {
     "name": "stdout",
     "output_type": "stream",
     "text": [
      "<tr><th class=\"pinned-col-3lxtuFnc col-group-start-sa9unvY0 number-aY5arzrB first-col-3aGPCzvr header-2pozo6NV is-table-pinned-1WfPW2jT\" data-col=\"0\" data-row=\"h1\" id=\"tb-1244-header-col0\" scope=\"col\"><div class=\"column-header-container-3x78vsMu no-select-2v-wwLIR\"><div><abbr class=\"bui-text cellheader bui-text\">PLAYER</abbr></div><div class=\"mobile-header-extra-2I-eBhFO\"><div></div><div></div></div></div></th><th class=\"col-group-end-2UJpJVwW number-aY5arzrB header-2pozo6NV align-left-3L2SU-Mk is-table-pinned-1WfPW2jT\" data-col=\"1\" data-row=\"h1\" id=\"tb-1244-header-col1\" scope=\"col\"><div class=\"column-header-container-3x78vsMu no-select-2v-wwLIR\"><div><abbr class=\"bui-text cellheader bui-text\">TEAM</abbr></div><div class=\"mobile-header-extra-2I-eBhFO\"><div></div><div></div></div></div></th><th class=\"col-group-start-sa9unvY0 number-aY5arzrB header-2pozo6NV align-right-3nN_D3xs is-table-pinned-1WfPW2jT\" data-col=\"2\" data-row=\"h1\" id=\"tb-1244-header-col2\" scope=\"col\"><div class=\"column-header-container-3x78vsMu no-select-2v-wwLIR\"><div><abbr class=\"bui-text cellheader bui-text\">W</abbr></div><div class=\"mobile-header-extra-2I-eBhFO\"><div></div><div></div></div></div></th><th class=\"number-aY5arzrB header-2pozo6NV align-right-3nN_D3xs is-table-pinned-1WfPW2jT\" data-col=\"3\" data-row=\"h1\" id=\"tb-1244-header-col3\" scope=\"col\"><div class=\"column-header-container-3x78vsMu no-select-2v-wwLIR\"><div><abbr class=\"bui-text cellheader bui-text\">L</abbr></div><div class=\"mobile-header-extra-2I-eBhFO\"><div></div><div></div></div></div></th><th class=\"selected-1vxxHvFg col-group-end-2UJpJVwW number-aY5arzrB header-2pozo6NV align-right-3nN_D3xs is-table-pinned-1WfPW2jT\" data-col=\"4\" data-row=\"h1\" id=\"tb-1244-header-col4\" scope=\"col\"><div class=\"selected-1vxxHvFg column-header-container-3x78vsMu no-select-2v-wwLIR\"><div><div class=\"sort-order-icons-oE9uGocE\"><svg class=\"bui-icon asc-arrow-U_ekHpRa current-sort-order-3ks7b_S5\" fill=\"\" height=\"16\" stroke=\"\" transform=\"rotate(0)\" viewbox=\"0 0 16 16\" width=\"16\" xmlns=\"http://www.w3.org/2000/svg\"><use xlink:href=\"#caret-up-spriteMap-OKfnQNHF\"><symbol id=\"caret-up-spriteMap-OKfnQNHF\" viewbox=\"0 0 11 6\"><title id=\"title-caret-up-spriteMap-OKfnQNHF\">caret-up</title><path d=\"M5.974.672l4.292 3.66a.65.65 0 0 1-.065 1.046.74.74 0 0 1-.88-.05L5.499 2.07 1.678 5.33a.739.739 0 0 1-.884.046.65.65 0 0 1-.062-1.043L5.027.671A.73.73 0 0 1 5.5.5c.17 0 .34.058.474.172zm-.808 1.114h.666L5.5 2.07l-.333-.284z\" fill=\"\" stroke=\"\"></path></symbol></use></svg><svg class=\"bui-icon desc-arrow-1lwaxUtc\" fill=\"\" height=\"16\" stroke=\"\" transform=\"rotate(0)\" viewbox=\"0 0 16 16\" width=\"16\" xmlns=\"http://www.w3.org/2000/svg\"><use xlink:href=\"#caret-down-spriteMap-OKfnQNHF\"><symbol id=\"caret-down-spriteMap-OKfnQNHF\" viewbox=\"0 0 11 6\"><title id=\"title-caret-down-spriteMap-OKfnQNHF\">caret-down</title><path d=\"M5.974 5.328l4.292-3.66a.65.65 0 0 0-.065-1.046.74.74 0 0 0-.88.05L5.499 3.928 1.678.671A.739.739 0 0 0 .794.625a.65.65 0 0 0-.062 1.042L5.027 5.33a.73.73 0 0 0 .473.17.727.727 0 0 0 .474-.171zm-.808-1.115h.666L5.5 3.93l-.333.284z\" fill=\"\" stroke=\"\"></path></symbol></use></svg></div><abbr class=\"bui-text cellheader selected-1vxxHvFg bui-text\">ERA</abbr></div><div class=\"mobile-header-extra-2I-eBhFO\"><div></div><div></div></div></div></th><th class=\"col-group-start-sa9unvY0 number-aY5arzrB header-2pozo6NV align-right-3nN_D3xs is-table-pinned-1WfPW2jT\" data-col=\"5\" data-row=\"h1\" id=\"tb-1244-header-col5\" scope=\"col\"><div class=\"column-header-container-3x78vsMu no-select-2v-wwLIR\"><div><abbr class=\"bui-text cellheader bui-text\">G</abbr></div><div class=\"mobile-header-extra-2I-eBhFO\"><div></div><div></div></div></div></th><th class=\"number-aY5arzrB header-2pozo6NV align-right-3nN_D3xs is-table-pinned-1WfPW2jT\" data-col=\"6\" data-row=\"h1\" id=\"tb-1244-header-col6\" scope=\"col\"><div class=\"column-header-container-3x78vsMu no-select-2v-wwLIR\"><div><abbr class=\"bui-text cellheader bui-text\">GS</abbr></div><div class=\"mobile-header-extra-2I-eBhFO\"><div></div><div></div></div></div></th><th class=\"number-aY5arzrB header-2pozo6NV align-right-3nN_D3xs is-table-pinned-1WfPW2jT\" data-col=\"7\" data-row=\"h1\" id=\"tb-1244-header-col7\" scope=\"col\"><div class=\"column-header-container-3x78vsMu no-select-2v-wwLIR\"><div><abbr class=\"bui-text cellheader bui-text\">CG</abbr></div><div class=\"mobile-header-extra-2I-eBhFO\"><div></div><div></div></div></div></th><th class=\"number-aY5arzrB header-2pozo6NV align-right-3nN_D3xs is-table-pinned-1WfPW2jT\" data-col=\"8\" data-row=\"h1\" id=\"tb-1244-header-col8\" scope=\"col\"><div class=\"column-header-container-3x78vsMu no-select-2v-wwLIR\"><div><abbr class=\"bui-text cellheader bui-text\">SHO</abbr></div><div class=\"mobile-header-extra-2I-eBhFO\"><div></div><div></div></div></div></th><th class=\"number-aY5arzrB header-2pozo6NV align-right-3nN_D3xs is-table-pinned-1WfPW2jT\" data-col=\"9\" data-row=\"h1\" id=\"tb-1244-header-col9\" scope=\"col\"><div class=\"column-header-container-3x78vsMu no-select-2v-wwLIR\"><div><abbr class=\"bui-text cellheader bui-text\">SV</abbr></div><div class=\"mobile-header-extra-2I-eBhFO\"><div></div><div></div></div></div></th><th class=\"col-group-end-2UJpJVwW number-aY5arzrB header-2pozo6NV align-right-3nN_D3xs is-table-pinned-1WfPW2jT\" data-col=\"10\" data-row=\"h1\" id=\"tb-1244-header-col10\" scope=\"col\"><div class=\"column-header-container-3x78vsMu no-select-2v-wwLIR\"><div><abbr class=\"bui-text cellheader bui-text\">SVO</abbr></div><div class=\"mobile-header-extra-2I-eBhFO\"><div></div><div></div></div></div></th><th class=\"col-group-start-sa9unvY0 number-aY5arzrB header-2pozo6NV align-right-3nN_D3xs is-table-pinned-1WfPW2jT\" data-col=\"11\" data-row=\"h1\" id=\"tb-1244-header-col11\" scope=\"col\"><div class=\"column-header-container-3x78vsMu no-select-2v-wwLIR\"><div><abbr class=\"bui-text cellheader bui-text\">IP</abbr></div><div class=\"mobile-header-extra-2I-eBhFO\"><div></div><div></div></div></div></th><th class=\"number-aY5arzrB header-2pozo6NV align-right-3nN_D3xs is-table-pinned-1WfPW2jT\" data-col=\"12\" data-row=\"h1\" id=\"tb-1244-header-col12\" scope=\"col\"><div class=\"column-header-container-3x78vsMu no-select-2v-wwLIR\"><div><abbr class=\"bui-text cellheader bui-text\">H</abbr></div><div class=\"mobile-header-extra-2I-eBhFO\"><div></div><div></div></div></div></th><th class=\"number-aY5arzrB header-2pozo6NV align-right-3nN_D3xs is-table-pinned-1WfPW2jT\" data-col=\"13\" data-row=\"h1\" id=\"tb-1244-header-col13\" scope=\"col\"><div class=\"column-header-container-3x78vsMu no-select-2v-wwLIR\"><div><abbr class=\"bui-text cellheader bui-text\">R</abbr></div><div class=\"mobile-header-extra-2I-eBhFO\"><div></div><div></div></div></div></th><th class=\"number-aY5arzrB header-2pozo6NV align-right-3nN_D3xs is-table-pinned-1WfPW2jT\" data-col=\"14\" data-row=\"h1\" id=\"tb-1244-header-col14\" scope=\"col\"><div class=\"column-header-container-3x78vsMu no-select-2v-wwLIR\"><div><abbr class=\"bui-text cellheader bui-text\">ER</abbr></div><div class=\"mobile-header-extra-2I-eBhFO\"><div></div><div></div></div></div></th><th class=\"number-aY5arzrB header-2pozo6NV align-right-3nN_D3xs is-table-pinned-1WfPW2jT\" data-col=\"15\" data-row=\"h1\" id=\"tb-1244-header-col15\" scope=\"col\"><div class=\"column-header-container-3x78vsMu no-select-2v-wwLIR\"><div><abbr class=\"bui-text cellheader bui-text\">HR</abbr></div><div class=\"mobile-header-extra-2I-eBhFO\"><div></div><div></div></div></div></th><th class=\"number-aY5arzrB header-2pozo6NV align-right-3nN_D3xs is-table-pinned-1WfPW2jT\" data-col=\"16\" data-row=\"h1\" id=\"tb-1244-header-col16\" scope=\"col\"><div class=\"column-header-container-3x78vsMu no-select-2v-wwLIR\"><div><abbr class=\"bui-text cellheader bui-text\">HB</abbr></div><div class=\"mobile-header-extra-2I-eBhFO\"><div></div><div></div></div></div></th><th class=\"number-aY5arzrB header-2pozo6NV align-right-3nN_D3xs is-table-pinned-1WfPW2jT\" data-col=\"17\" data-row=\"h1\" id=\"tb-1244-header-col17\" scope=\"col\"><div class=\"column-header-container-3x78vsMu no-select-2v-wwLIR\"><div><abbr class=\"bui-text cellheader bui-text\">BB</abbr></div><div class=\"mobile-header-extra-2I-eBhFO\"><div></div><div></div></div></div></th><th class=\"col-group-end-2UJpJVwW number-aY5arzrB header-2pozo6NV align-right-3nN_D3xs is-table-pinned-1WfPW2jT\" data-col=\"18\" data-row=\"h1\" id=\"tb-1244-header-col18\" scope=\"col\"><div class=\"column-header-container-3x78vsMu no-select-2v-wwLIR\"><div><abbr class=\"bui-text cellheader bui-text\">SO</abbr></div><div class=\"mobile-header-extra-2I-eBhFO\"><div></div><div></div></div></div></th><th class=\"col-group-start-sa9unvY0 number-aY5arzrB header-2pozo6NV align-right-3nN_D3xs is-table-pinned-1WfPW2jT\" data-col=\"19\" data-row=\"h1\" id=\"tb-1244-header-col19\" scope=\"col\"><div class=\"column-header-container-3x78vsMu no-select-2v-wwLIR\"><div><abbr class=\"bui-text cellheader bui-text\">WHIP</abbr></div><div class=\"mobile-header-extra-2I-eBhFO\"><div></div><div></div></div></div></th><th class=\"col-group-end-2UJpJVwW number-aY5arzrB header-2pozo6NV align-right-3nN_D3xs is-table-pinned-1WfPW2jT\" data-col=\"20\" data-row=\"h1\" id=\"tb-1244-header-col20\" scope=\"col\"><div class=\"column-header-container-3x78vsMu no-select-2v-wwLIR\"><div><abbr class=\"bui-text cellheader bui-text\">AVG</abbr></div><div class=\"mobile-header-extra-2I-eBhFO\"><div></div><div></div></div></div></th></tr>\n"
     ]
    }
   ],
   "source": [
    "# for getting the header from \n",
    "# the HTML file \n",
    "list_header = [] \n",
    "soup = BeautifulSoup(pitching_page.text,'html.parser') \n",
    "header = soup.find_all(\"table\")[0].find(\"tr\") \n",
    "  \n",
    "for items in header: \n",
    "    try: \n",
    "        list_header.append(items.get_text()) \n",
    "    except: \n",
    "        continue"
   ]
  },
  {
   "cell_type": "code",
   "execution_count": 16,
   "metadata": {},
   "outputs": [
    {
     "name": "stdout",
     "output_type": "stream",
     "text": [
      "                                 PLAYER TEAM  W  L caret-upcaret-downERA   G  \\\n",
      "0             1ShaneS BieberBieberP1‌‌‌  CLE  8  1                  1.63  12   \n",
      "1              2TrevorT BauerBauerP2‌‌‌  CIN  5  4                  1.73  11   \n",
      "2          3DallasD KeuchelKeuchelP3‌‌‌  CWS  6  2                  1.99  11   \n",
      "3              4YuY DarvishDarvishP4‌‌‌  CHC  8  3                  2.01  12   \n",
      "4            5DinelsonD LametLametP5‌‌‌   SD  3  1                  2.09  12   \n",
      "5           6ChrisC BassittBassittP6‌‌‌  OAK  5  2                  2.29  11   \n",
      "6             7JacobJ deGromdeGromP7‌‌‌  NYM  4  2                  2.38  12   \n",
      "7                8Hyun JinH RyuRyuP8‌‌‌  TOR  5  2                  2.69  12   \n",
      "8               9KentaK MaedaMaedaP9‌‌‌  MIN  6  1                  2.70  11   \n",
      "9            10ZachZ DaviesDaviesP10‌‌‌   SD  7  4                  2.73  12   \n",
      "10            11ZacZ GallenGallenP11‌‌‌  ARI  3  2                  2.75  12   \n",
      "11             12GerritG ColeColeP12‌‌‌  NYY  7  3                  2.84  12   \n",
      "12     13KyleK HendricksHendricksP13‌‌‌  CHC  6  5                  2.88  12   \n",
      "13     14CarlosC CarrascoCarrascoP14‌‌‌  CLE  3  4                  2.91  12   \n",
      "14         15ZackZ WheelerWheelerP15‌‌‌  PHI  4  2                  2.92  11   \n",
      "15    16BrandonB WoodruffWoodruffP16‌‌‌  MIL  3  5                  3.05  13   \n",
      "16      17MarcoM GonzalesGonzalesP17‌‌‌  SEA  7  2                  3.10  11   \n",
      "17   18AdamA WainwrightWainwrightP18‌‌‌  STL  5  3                  3.15  10   \n",
      "18       19LuisL CastilloCastilloP19‌‌‌  CIN  4  6                  3.21  12   \n",
      "19              20AaronA NolaNolaP20‌‌‌  PHI  5  5                  3.28  12   \n",
      "20            21DylanD BundyBundyP21‌‌‌  LAA  6  3                  3.29  11   \n",
      "21              22LanceL LynnLynnP22‌‌‌  TEX  6  3                  3.32  13   \n",
      "22  23AntonioA SenzatelaSenzatelaP23‌‌‌  COL  5  3                  3.44  12   \n",
      "23        24LucasL GiolitoGiolitoP24‌‌‌  CWS  4  3                  3.48  12   \n",
      "24        25FramberF ValdezValdezP25‌‌‌  HOU  5  3                  3.57  11   \n",
      "\n",
      "    GS CG SHO SV  ...    IP   H   R  ER  HR HB  BB   SO  WHIP   AVG  \n",
      "0   12  0   0  0  ...  77.1  46  15  14   7  1  21  122  0.87  .167  \n",
      "1   11  2   2  0  ...  73.0  41  17  14   9  3  17  100  0.79  .159  \n",
      "2   11  0   0  0  ...  63.1  52  15  14   2  0  17   42  1.09  .218  \n",
      "3   12  0   0  0  ...  76.0  59  18  17   5  2  14   93  0.96  .211  \n",
      "4   12  0   0  0  ...  69.0  39  18  16   5  4  20   93  0.86  .161  \n",
      "5   11  0   0  0  ...  63.0  56  18  16   6  2  17   55  1.16  .233  \n",
      "6   12  0   0  0  ...  68.0  47  21  18   7  0  18  104  0.96  .190  \n",
      "7   12  0   0  0  ...  67.0  60  22  20   6  1  17   72  1.15  .234  \n",
      "8   11  0   0  0  ...  66.2  40  20  20   9  0  10   80  0.75  .168  \n",
      "9   12  0   0  0  ...  69.1  55  26  21   9  0  19   63  1.07  .216  \n",
      "10  12  0   0  0  ...  72.0  55  24  22   9  2  25   82  1.11  .210  \n",
      "11  12  2   1  0  ...  73.0  53  27  23  14  2  17   94  0.96  .197  \n",
      "12  12  1   1  0  ...  81.1  73  26  26  10  1   8   64  1.00  .240  \n",
      "13  12  0   0  0  ...  68.0  55  22  22   8  2  27   82  1.21  .221  \n",
      "14  11  0   0  0  ...  71.0  67  26  23   3  7  16   53  1.17  .254  \n",
      "15  13  1   0  0  ...  73.2  55  26  25   9  4  18   91  0.99  .204  \n",
      "16  11  1   0  0  ...  69.2  59  27  24   8  4   7   64  0.95  .222  \n",
      "17  10  2   0  0  ...  65.2  54  25  23   9  2  15   54  1.05  .221  \n",
      "18  12  1   0  0  ...  70.0  62  31  25   5  1  24   89  1.23  .233  \n",
      "19  12  2   1  0  ...  71.1  54  31  26   9  2  23   96  1.08  .205  \n",
      "20  11  1   0  0  ...  65.2  51  27  24   5  4  17   72  1.04  .208  \n",
      "21  13  1   0  0  ...  84.0  64  34  31  13  6  25   89  1.06  .206  \n",
      "22  12  1   0  0  ...  73.1  71  29  28   9  4  18   41  1.21  .254  \n",
      "23  12  1   1  0  ...  72.1  47  31  28   8  2  28   97  1.04  .184  \n",
      "24  10  0   0  0  ...  70.2  63  32  28   5  5  16   76  1.12  .240  \n",
      "\n",
      "[25 rows x 21 columns]\n"
     ]
    }
   ],
   "source": [
    "# empty list \n",
    "data = []  \n",
    "# for getting the data  \n",
    "HTML_data = soup.find_all(\"table\")[0].find_all(\"tr\")[1:] \n",
    "  \n",
    "for element in HTML_data: \n",
    "    sub_data = [] \n",
    "    for sub_element in element: \n",
    "        try: \n",
    "            sub_data.append(sub_element.get_text()) \n",
    "        except: \n",
    "            continue\n",
    "    data.append(sub_data) \n",
    "  \n",
    "# Storing the data into Pandas \n",
    "# DataFrame  \n",
    "dataFrame = pd.DataFrame(data = data, columns = list_header) \n",
    "\n",
    "print(dataFrame)"
   ]
  },
  {
   "cell_type": "code",
   "execution_count": null,
   "metadata": {},
   "outputs": [],
   "source": [
    "Runs Scored (R)\n",
    "Home Runs (HR)\n",
    "Runs Batted In (RBI)\n",
    "Stolen Bases (SB)\n",
    "Batting Average (AVG)\n",
    "On Base plus Slugging Pct (OPS)\n",
    "\n",
    "Pitching\n",
    "Strikeouts (K)\n",
    "Wins (W)\n",
    "Saves (SV)\n",
    "Earned Run Average (ERA) †\n",
    "Walks plus Hits Per Innings Pitched (WHIP) †\n",
    "Strikeouts per 9 Innings (K/9)"
   ]
  },
  {
   "cell_type": "code",
   "execution_count": null,
   "metadata": {},
   "outputs": [],
   "source": [
    "#rotate between winning criteria\n",
    "#"
   ]
  }
 ],
 "metadata": {
  "kernelspec": {
   "display_name": "Python 3",
   "language": "python",
   "name": "python3"
  },
  "language_info": {
   "codemirror_mode": {
    "name": "ipython",
    "version": 3
   },
   "file_extension": ".py",
   "mimetype": "text/x-python",
   "name": "python",
   "nbconvert_exporter": "python",
   "pygments_lexer": "ipython3",
   "version": "3.7.4"
  }
 },
 "nbformat": 4,
 "nbformat_minor": 2
}
