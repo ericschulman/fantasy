{
 "cells": [
  {
   "cell_type": "code",
   "execution_count": 16,
   "metadata": {},
   "outputs": [],
   "source": [
    "import pandas as pd\n",
    "import requests\n",
    "from bs4 import BeautifulSoup\n",
    "import time"
   ]
  },
  {
   "cell_type": "code",
   "execution_count": 17,
   "metadata": {},
   "outputs": [],
   "source": [
    "#?playerPool=ALL <- need to add this flag\n",
    "\n",
    "#url = 'https://www.mlb.com/stats/pitching/2020/'\n",
    "#max_pages =2\n",
    "#file_name = 'pitching_0228'\n",
    "\n",
    "#https://www.espn.com/mlb/stats/player/_/view/batting\n",
    "\n",
    "url = 'https://www.mlb.com/stats/batting/2020/'\n",
    "max_pages = 6\n",
    "file_name = 'hitting_0228'\n",
    "\n",
    "\n",
    "headers = {'User-Agent': 'Mozilla/5.0 (X11; Linux x86_64) AppleWebKit/537.11 (KHTML, like Gecko) Chrome/23.0.1271.64 Safari/537.11',\n",
    "       'Accept': 'text/html,application/xhtml+xml,application/xml;q=0.9,*/*;q=0.8',\n",
    "       'Accept-Charset': 'ISO-8859-1,utf-8;q=0.7,*;q=0.3',\n",
    "       'Accept-Encoding': 'none',\n",
    "       'Accept-Language': 'en-US,en;q=0.8',\n",
    "       'Connection': 'keep-alive'}"
   ]
  },
  {
   "cell_type": "code",
   "execution_count": 18,
   "metadata": {},
   "outputs": [
    {
     "name": "stdout",
     "output_type": "stream",
     "text": [
      "https://www.mlb.com/stats/batting/2020/\n",
      "https://www.mlb.com/stats/batting/2020/?page=2\n",
      "https://www.mlb.com/stats/batting/2020/?page=3\n",
      "https://www.mlb.com/stats/batting/2020/?page=4\n",
      "https://www.mlb.com/stats/batting/2020/?page=5\n",
      "https://www.mlb.com/stats/batting/2020/?page=6\n"
     ]
    }
   ],
   "source": [
    "dataFrame = None\n",
    "\n",
    "for page_num in range(1,max_pages+1):\n",
    "    page_url = url\n",
    "    if page_num >1:\n",
    "        page_url = url+ '?page=' + str(page_num)\n",
    "    print(page_url)\n",
    "    page = requests.get(page_url, headers=headers)\n",
    "    time.sleep(1)\n",
    "    # for getting the header from the HTML file \n",
    "    list_header = [] \n",
    "    soup = BeautifulSoup(page.text,'html.parser') \n",
    "    header = soup.find_all(\"table\")[0].find(\"tr\") \n",
    "\n",
    "    for items in header: \n",
    "        try: \n",
    "            list_header.append(items.get_text()) \n",
    "        except: \n",
    "            continue\n",
    "    # empty list \n",
    "    data = []  \n",
    "    # for getting the data  \n",
    "    HTML_data = soup.find_all(\"table\")[0].find_all(\"tr\")[1:] \n",
    "\n",
    "    for element in HTML_data: \n",
    "        sub_data = [] \n",
    "        for sub_element in element: \n",
    "            try: \n",
    "                sub_data.append(sub_element.get_text()) \n",
    "            except: \n",
    "                continue\n",
    "        data.append(sub_data) \n",
    "    currentFrame = pd.DataFrame(data = data, columns = list_header) \n",
    "    if page_num ==1:\n",
    "        dataFrame = currentFrame\n",
    "    else:\n",
    "        dataFrame = dataFrame.append(currentFrame,ignore_index=True,sort=True)\n",
    "    \n",
    "    \n",
    "dataFrame.to_csv('data/'+file_name + '.csv',index=False)"
   ]
  },
  {
   "cell_type": "code",
   "execution_count": null,
   "metadata": {},
   "outputs": [],
   "source": [
    "\n",
    "    "
   ]
  },
  {
   "cell_type": "code",
   "execution_count": null,
   "metadata": {},
   "outputs": [],
   "source": []
  },
  {
   "cell_type": "code",
   "execution_count": null,
   "metadata": {},
   "outputs": [],
   "source": [
    "#rotate between winning criteria\n",
    "#"
   ]
  }
 ],
 "metadata": {
  "kernelspec": {
   "display_name": "Python 3",
   "language": "python",
   "name": "python3"
  },
  "language_info": {
   "codemirror_mode": {
    "name": "ipython",
    "version": 3
   },
   "file_extension": ".py",
   "mimetype": "text/x-python",
   "name": "python",
   "nbconvert_exporter": "python",
   "pygments_lexer": "ipython3",
   "version": "3.7.4"
  }
 },
 "nbformat": 4,
 "nbformat_minor": 2
}
