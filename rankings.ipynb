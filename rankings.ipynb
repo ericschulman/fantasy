{
 "cells": [
  {
   "cell_type": "code",
   "execution_count": 2,
   "metadata": {},
   "outputs": [],
   "source": [
    "import pandas as pd"
   ]
  },
  {
   "cell_type": "markdown",
   "metadata": {},
   "source": [
    "Runs Scored (R)\n",
    "\n",
    "Home Runs (HR)\n",
    "\n",
    "Runs Batted In (RBI)\n",
    "\n",
    "Stolen Bases (SB)\n",
    "\n",
    "On Base Pct (OBP)\n",
    "\n",
    "Slugging Pct (SLG) \n"
   ]
  },
  {
   "cell_type": "code",
   "execution_count": 13,
   "metadata": {},
   "outputs": [
    {
     "name": "stdout",
     "output_type": "stream",
     "text": [
      "Index(['2B', '3B', 'AB', 'AVG', 'BB', 'CS', 'G', 'H', 'HR', 'OBP', 'PLAYER',\n",
      "       'R', 'RBI', 'SB', 'SLG', 'SO', 'TEAM', 'caret-upcaret-downOPS'],\n",
      "      dtype='object')\n",
      "                                    PLAYER  fantasy_score\n",
      "17   18FernandoF Tatis Jr.Tatis Jr.SS18‌‌‌       4.529974\n",
      "4              5JoseJ RamírezRamirez3B5‌‌‌       4.499550\n",
      "1           2FreddieF FreemanFreeman1B2‌‌‌       4.421296\n",
      "9                10JoseJ AbreuAbreu1B10‌‌‌       4.349645\n",
      "2               3MarcellM OzunaOzunaDH3‌‌‌       4.291313\n",
      "..                                     ...            ...\n",
      "135        136VictorV RoblesRoblesCF136‌‌‌       1.996384\n",
      "136    137MarwinM GonzalezGonzalez3B137‌‌‌       1.932162\n",
      "129       130AvisailA GarcíaGarciaCF130‌‌‌       1.923389\n",
      "134      135ErikE GonzálezGonzalezSS135‌‌‌       1.864495\n",
      "141           142NickyN LopezLopez2B142‌‌‌       1.522646\n",
      "\n",
      "[142 rows x 2 columns]\n"
     ]
    }
   ],
   "source": [
    "batting = pd.read_csv('data/hitting_0228.csv')\n",
    "print(batting.columns)\n",
    "batting['fantasy_score'] = batting['R']/batting['R'].max() + \\\n",
    " batting['HR']/batting['HR'].max() + \\\n",
    " batting['RBI']/batting['RBI'].max() + \\\n",
    " batting['SB']/batting['SB'].max() + \\\n",
    " batting['OBP']/batting['OBP'].max() + \\\n",
    " batting['SLG']/batting['SLG'].max()\n",
    "\n",
    "\n",
    "print(batting[['PLAYER','fantasy_score']].sort_values(by='fantasy_score',ascending=False))"
   ]
  },
  {
   "cell_type": "markdown",
   "metadata": {},
   "source": [
    "Strikeouts (K)\n",
    "Wins (W)\n",
    "Earned Run Average (ERA) †\n",
    "Walks plus Hits Per Innings Pitched (WHIP) †\n",
    "Strikeouts per 9 Innings (K/9) †\n",
    "Saves Plus Holds (SVHD)"
   ]
  },
  {
   "cell_type": "code",
   "execution_count": 20,
   "metadata": {},
   "outputs": [],
   "source": [
    "pitching = pd.read_csv('data/pitching_0228.csv')"
   ]
  },
  {
   "cell_type": "code",
   "execution_count": 32,
   "metadata": {},
   "outputs": [
    {
     "name": "stdout",
     "output_type": "stream",
     "text": [
      "Index(['AVG', 'BB', 'CG', 'ER', 'G', 'GS', 'H', 'HB', 'HR', 'IP', 'L',\n",
      "       'PLAYER', 'R', 'SHO', 'SO', 'SV', 'SVO', 'TEAM', 'W', 'WHIP',\n",
      "       'caret-upcaret-downERA', 'fantasy_score'],\n",
      "      dtype='object')\n",
      "                                 PLAYER  fantasy_score\n",
      "25        26MaxM ScherzerScherzerP26‌‌‌       2.815456\n",
      "39            40MatthewM BoydBoydP40‌‌‌       2.809478\n",
      "0             1ShaneS BieberBieberP1‌‌‌       2.797061\n",
      "11             12GerritG ColeColeP12‌‌‌       2.680206\n",
      "3              4YuY DarvishDarvishP4‌‌‌       2.673313\n",
      "21              22LanceL LynnLynnP22‌‌‌       2.649451\n",
      "27         28JoseJ BerríosBerriosP28‌‌‌       2.619267\n",
      "35          36AaronA CivaleCivaleP36‌‌‌       2.612746\n",
      "19              20AaronA NolaNolaP20‌‌‌       2.588606\n",
      "31         32AndrewA HeaneyHeaneyP32‌‌‌       2.521890\n",
      "37           38KyleK GibsonGibsonP38‌‌‌       2.497250\n",
      "24        25FramberF ValdezValdezP25‌‌‌       2.493368\n",
      "20            21DylanD BundyBundyP21‌‌‌       2.492897\n",
      "18       19LuisL CastilloCastilloP19‌‌‌       2.491338\n",
      "9            10ZachZ DaviesDaviesP10‌‌‌       2.479778\n",
      "23        24LucasL GiolitoGiolitoP24‌‌‌       2.476131\n",
      "16      17MarcoM GonzalesGonzalesP17‌‌‌       2.466683\n",
      "26       27GermanG MárquezMarquezP27‌‌‌       2.459776\n",
      "34        35PatrickP CorbinCorbinP35‌‌‌       2.436289\n",
      "32             33AlecA MillsMillsP33‌‌‌       2.408563\n",
      "38           39JohnnyJ CuetoCuetoP39‌‌‌       2.386397\n",
      "29          30BradyB SingerSingerP30‌‌‌       2.350290\n",
      "7                8Hyun JinH RyuRyuP8‌‌‌       2.348542\n",
      "12     13KyleK HendricksHendricksP13‌‌‌       2.340743\n",
      "36            37JonJ LesterLesterP37‌‌‌       2.335398\n",
      "6             7JacobJ deGromdeGromP7‌‌‌       2.318618\n",
      "8               9KentaK MaedaMaedaP9‌‌‌       2.285829\n",
      "33           34MartinM PérezPerezP34‌‌‌       2.276193\n",
      "13     14CarlosC CarrascoCarrascoP14‌‌‌       2.251513\n",
      "28         29ZackZ GreinkeGreinkeP29‌‌‌       2.244522\n",
      "22  23AntonioA SenzatelaSenzatelaP23‌‌‌       2.244434\n",
      "15    16BrandonB WoodruffWoodruffP16‌‌‌       2.206020\n",
      "17   18AdamA WainwrightWainwrightP18‌‌‌       2.205861\n",
      "1              2TrevorT BauerBauerP2‌‌‌       2.205681\n",
      "30       31KyleK FreelandFreelandP31‌‌‌       2.176813\n",
      "10            11ZacZ GallenGallenP11‌‌‌       2.163974\n",
      "5           6ChrisC BassittBassittP6‌‌‌       2.155955\n",
      "14         15ZackZ WheelerWheelerP15‌‌‌       2.114821\n",
      "2          3DallasD KeuchelKeuchelP3‌‌‌       2.085102\n",
      "4            5DinelsonD LametLametP5‌‌‌       1.996541\n"
     ]
    }
   ],
   "source": [
    "print(pitching.columns)\n",
    "pitching['fantasy_score'] = pitching['SO']/pitching['SO'].max() + \\\n",
    "pitching['W']/pitching['W'].max() + \\\n",
    "pitching['caret-upcaret-downERA']/pitching['caret-upcaret-downERA'].max()  + \\\n",
    "pitching['WHIP']/pitching['WHIP'].max()  #+ \\\n",
    "#pitching['SV']/pitching['SV'].max()\n",
    "\n",
    "print(pitching[['PLAYER','fantasy_score']].sort_values(by='fantasy_score',ascending=False))\n",
    "\n",
    "#need K/IP\n",
    "#need holds?"
   ]
  },
  {
   "cell_type": "code",
   "execution_count": null,
   "metadata": {},
   "outputs": [],
   "source": []
  }
 ],
 "metadata": {
  "kernelspec": {
   "display_name": "Python 3",
   "language": "python",
   "name": "python3"
  },
  "language_info": {
   "codemirror_mode": {
    "name": "ipython",
    "version": 3
   },
   "file_extension": ".py",
   "mimetype": "text/x-python",
   "name": "python",
   "nbconvert_exporter": "python",
   "pygments_lexer": "ipython3",
   "version": "3.7.4"
  }
 },
 "nbformat": 4,
 "nbformat_minor": 2
}
