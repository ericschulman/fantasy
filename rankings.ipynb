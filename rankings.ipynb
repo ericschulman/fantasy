{
 "cells": [
  {
   "cell_type": "code",
   "execution_count": 18,
   "metadata": {},
   "outputs": [],
   "source": [
    "import pandas as pd"
   ]
  },
  {
   "cell_type": "markdown",
   "metadata": {},
   "source": [
    "Runs Scored (R)\n",
    "\n",
    "Home Runs (HR)\n",
    "\n",
    "Runs Batted In (RBI)\n",
    "\n",
    "Stolen Bases (SB)\n",
    "\n",
    "On Base Pct (OBP)\n",
    "\n",
    "Slugging Pct (SLG)\n",
    "\n",
    "\n"
   ]
  },
  {
   "cell_type": "code",
   "execution_count": 19,
   "metadata": {},
   "outputs": [],
   "source": [
    "hitting = pd.read_csv('data/hitting_0307.csv')"
   ]
  },
  {
   "cell_type": "code",
   "execution_count": 20,
   "metadata": {},
   "outputs": [],
   "source": [
    "hitting['fantasy_score'] = hitting['R']/hitting['R'].max() +\\\n",
    "hitting['HR']/hitting['HR'].max() +\\\n",
    "hitting['RBI']/hitting['RBI'].max() +\\\n",
    "hitting['SB']/hitting['SB'].max() +\\\n",
    "hitting['OBP']/hitting['OBP'].max() +\\\n",
    "hitting['SLG']/hitting['SLG'].max() \n",
    "\n",
    "hitting_result = hitting[['PLAYER','fantasy_score']].sort_values(by='fantasy_score',ascending=False)\n",
    "hitting_result = hitting[['PLAYER','fantasy_score']].to_csv('data/hitting.csv',index=False)"
   ]
  },
  {
   "cell_type": "markdown",
   "metadata": {},
   "source": [
    "Strikeouts (SO)\n",
    "\n",
    "Wins (W)\n",
    "\n",
    "Earned Run Average (ERA) †\n",
    "\n",
    "Walks plus Hits Per Innings Pitched (WHIP) †\n",
    "\n",
    "Strikeouts per 9 Innings (SO/9) †\n",
    "\n",
    "Saves Plus Holds (SVHD) "
   ]
  },
  {
   "cell_type": "code",
   "execution_count": 21,
   "metadata": {},
   "outputs": [],
   "source": [
    "pitching = pd.read_csv('data/pitching_0307.csv')\n",
    "pitching_expanded = pd.read_csv('data/pitching_0307-expanded.csv')\n",
    "pitching = pd.merge(pitching,pitching_expanded,on=['PLAYER','TEAM'])"
   ]
  },
  {
   "cell_type": "code",
   "execution_count": 22,
   "metadata": {},
   "outputs": [],
   "source": [
    "pitching['fantasy_score'] = pitching['SO']/pitching['SO'].max() +\\\n",
    "pitching['W']/pitching['W'].max() +\\\n",
    "pitching['caret-upcaret-downERA']/pitching['caret-upcaret-downERA'].max() +\\\n",
    "pitching['WHIP']/pitching['WHIP'].max() +\\\n",
    "pitching['SO/9']/pitching['SO/9'].max() +\\\n",
    "(pitching['SV']+pitching['HLD'])/(pitching['SV']+pitching['HLD']).max() \n",
    "\n",
    "pitching_result = pitching[['PLAYER','fantasy_score']].sort_values(by='fantasy_score',ascending=False)\n",
    "pitching_result.to_csv('data/pitching.csv',index=False)"
   ]
  },
  {
   "cell_type": "code",
   "execution_count": null,
   "metadata": {},
   "outputs": [],
   "source": []
  }
 ],
 "metadata": {
  "kernelspec": {
   "display_name": "Python 3",
   "language": "python",
   "name": "python3"
  },
  "language_info": {
   "codemirror_mode": {
    "name": "ipython",
    "version": 3
   },
   "file_extension": ".py",
   "mimetype": "text/x-python",
   "name": "python",
   "nbconvert_exporter": "python",
   "pygments_lexer": "ipython3",
   "version": "3.7.4"
  }
 },
 "nbformat": 4,
 "nbformat_minor": 2
}
