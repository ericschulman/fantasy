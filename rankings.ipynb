{
 "cells": [
  {
   "cell_type": "code",
   "execution_count": null,
   "metadata": {},
   "outputs": [],
   "source": [
    "import pandas as pd"
   ]
  },
  {
   "cell_type": "markdown",
   "metadata": {},
   "source": [
    "My league's scoring criteria\n",
    "\n",
    "Runs Scored (R)\n",
    "Home Runs (HR)\n",
    "Runs Batted In (RBI)\n",
    "Stolen Bases (SB)\n",
    "Batting Average (AVG)\n",
    "On Base plus Slugging Pct (OPS)\n",
    "\n",
    "Pitching\n",
    "Strikeouts (K)\n",
    "Wins (W)\n",
    "Saves (SV)\n",
    "Earned Run Average (ERA) †\n",
    "Walks plus Hits Per Innings Pitched (WHIP) †\n",
    "Strikeouts per 9 Innings (K/9)"
   ]
  },
  {
   "cell_type": "code",
   "execution_count": null,
   "metadata": {},
   "outputs": [],
   "source": []
  }
 ],
 "metadata": {
  "kernelspec": {
   "display_name": "Python 3",
   "language": "python",
   "name": "python3"
  },
  "language_info": {
   "codemirror_mode": {
    "name": "ipython",
    "version": 3
   },
   "file_extension": ".py",
   "mimetype": "text/x-python",
   "name": "python",
   "nbconvert_exporter": "python",
   "pygments_lexer": "ipython3",
   "version": "3.7.4"
  }
 },
 "nbformat": 4,
 "nbformat_minor": 2
}
